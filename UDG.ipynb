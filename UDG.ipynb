{
 "cells": [
  {
   "cell_type": "code",
   "execution_count": 1,
   "id": "a0cac309-a380-4cfc-b1d5-a0eab856dee5",
   "metadata": {},
   "outputs": [],
   "source": [
    "from UnitlessDataGeneration import Graph, TimeSeries"
   ]
  },
  {
   "cell_type": "code",
   "execution_count": 2,
   "id": "857fb35f-3dff-4c88-ba67-404694918930",
   "metadata": {},
   "outputs": [
    {
     "ename": "TypeError",
     "evalue": "Graph.select_vars() takes 2 positional arguments but 3 were given",
     "output_type": "error",
     "traceback": [
      "\u001b[0;31m---------------------------------------------------------------------------\u001b[0m",
      "\u001b[0;31mTypeError\u001b[0m                                 Traceback (most recent call last)",
      "Cell \u001b[0;32mIn[2], line 1\u001b[0m\n\u001b[0;32m----> 1\u001b[0m G \u001b[38;5;241m=\u001b[39m Graph(\u001b[38;5;241m5\u001b[39m,\u001b[38;5;241m1\u001b[39m,init_type\u001b[38;5;241m=\u001b[39m\u001b[38;5;124m'\u001b[39m\u001b[38;5;124mno_feedback\u001b[39m\u001b[38;5;124m'\u001b[39m, p_auto\u001b[38;5;241m=\u001b[39m\u001b[38;5;241m1\u001b[39m)\n\u001b[1;32m      2\u001b[0m G\n",
      "File \u001b[0;32m~/UnitlessDataGeneration.py:179\u001b[0m, in \u001b[0;36mGraph.__init__\u001b[0;34m(self, N, tau_max, init_type, p, p_auto, init, noise, labels, topo_order)\u001b[0m\n\u001b[1;32m    177\u001b[0m     new_order \u001b[38;5;241m=\u001b[39m np\u001b[38;5;241m.\u001b[39marange(\u001b[38;5;28mself\u001b[39m\u001b[38;5;241m.\u001b[39mN)\n\u001b[1;32m    178\u001b[0m     np\u001b[38;5;241m.\u001b[39mrandom\u001b[38;5;241m.\u001b[39mshuffle(new_order)\n\u001b[0;32m--> 179\u001b[0m     \u001b[38;5;28mself\u001b[39m\u001b[38;5;241m.\u001b[39mA \u001b[38;5;241m=\u001b[39m Graph\u001b[38;5;241m.\u001b[39mselect_vars(\u001b[38;5;28mself\u001b[39m\u001b[38;5;241m.\u001b[39mA, new_order)\n\u001b[1;32m    180\u001b[0m     \u001b[38;5;28mself\u001b[39m\u001b[38;5;241m.\u001b[39mtopo_order \u001b[38;5;241m=\u001b[39m np\u001b[38;5;241m.\u001b[39margsort(new_order)\n\u001b[1;32m    181\u001b[0m \u001b[38;5;66;03m#lists feedback loops by summary-graph topological order.\u001b[39;00m\n\u001b[1;32m    182\u001b[0m \u001b[38;5;66;03m#Additionally updates topo_order to match this where possible.\u001b[39;00m\n",
      "\u001b[0;31mTypeError\u001b[0m: Graph.select_vars() takes 2 positional arguments but 3 were given"
     ]
    }
   ],
   "source": [
    "G = Graph(5,1,init_type='no_feedback', p_auto=1)\n",
    "G"
   ]
  },
  {
   "cell_type": "code",
   "execution_count": null,
   "id": "9e90be14-39cb-4762-8cd2-ebfcdec094b2",
   "metadata": {},
   "outputs": [],
   "source": []
  }
 ],
 "metadata": {
  "kernelspec": {
   "display_name": "generation",
   "language": "python",
   "name": "generation"
  },
  "language_info": {
   "codemirror_mode": {
    "name": "ipython",
    "version": 3
   },
   "file_extension": ".py",
   "mimetype": "text/x-python",
   "name": "python",
   "nbconvert_exporter": "python",
   "pygments_lexer": "ipython3",
   "version": "3.11.9"
  }
 },
 "nbformat": 4,
 "nbformat_minor": 5
}
